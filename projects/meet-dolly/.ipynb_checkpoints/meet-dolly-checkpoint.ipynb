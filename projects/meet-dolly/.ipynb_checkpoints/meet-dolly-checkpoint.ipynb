{
 "cells": [
  {
   "cell_type": "markdown",
   "metadata": {},
   "source": [
    "## Meet Dolly\n",
    "<p align=\"center\" width=\"100%\">\n",
    "<img align=\"center\" src=\"dolly.png\">\n",
    "</p>"
   ]
  },
  {
   "cell_type": "markdown",
   "metadata": {},
   "source": [
    "[Dolly](https://www.databricks.com/blog/2023/04/12/dolly-first-open-commercially-viable-instruction-tuned-llm) is a large language model developed by Databricks. It's a open source large language model and is trained on a open source dataset which is known as [databricks-dolly-15k](https://github.com/databrickslabs/dolly/tree/master/data). \n",
    "\n",
    "By the way the story behind the creation of the dataset is quite interesting. You can read about how the datset was created [here](https://www.databricks.com/blog/2023/04/12/dolly-first-open-commercially-viable-instruction-tuned-llm)."
   ]
  },
  {
   "cell_type": "markdown",
   "metadata": {},
   "source": [
    "## Let's try it out\n",
    "We will use huggingface to use the Dolly model. At the time of writing, the Huggingface library is a simple way to quickly interact with the model. There is one more library known as langchain, but we will come to it later at some other time."
   ]
  },
  {
   "cell_type": "markdown",
   "metadata": {},
   "source": [
    "First I will install the required libraires. "
   ]
  },
  {
   "cell_type": "markdown",
   "metadata": {},
   "source": []
  },
  {
   "cell_type": "code",
   "execution_count": 2,
   "metadata": {},
   "outputs": [
    {
     "name": "stdout",
     "output_type": "stream",
     "text": [
      "Collecting accelerate\n",
      "  Downloading accelerate-0.18.0-py3-none-any.whl (215 kB)\n",
      "\u001b[K     |████████████████████████████████| 215 kB 663 kB/s eta 0:00:01\n",
      "\u001b[?25hRequirement already satisfied: numpy>=1.17 in /home/satya/anaconda3/lib/python3.9/site-packages (from accelerate) (1.21.5)\n",
      "Requirement already satisfied: pyyaml in /home/satya/anaconda3/lib/python3.9/site-packages (from accelerate) (6.0)\n",
      "Requirement already satisfied: packaging>=20.0 in /home/satya/anaconda3/lib/python3.9/site-packages (from accelerate) (21.3)\n",
      "Requirement already satisfied: psutil in /home/satya/anaconda3/lib/python3.9/site-packages (from accelerate) (5.8.0)\n",
      "Requirement already satisfied: torch>=1.4.0 in /home/satya/anaconda3/lib/python3.9/site-packages (from accelerate) (1.12.0)\n",
      "Requirement already satisfied: pyparsing!=3.0.5,>=2.0.2 in /home/satya/anaconda3/lib/python3.9/site-packages (from packaging>=20.0->accelerate) (3.0.4)\n",
      "Requirement already satisfied: typing-extensions in /home/satya/anaconda3/lib/python3.9/site-packages (from torch>=1.4.0->accelerate) (4.1.1)\n",
      "Installing collected packages: accelerate\n",
      "Successfully installed accelerate-0.18.0\n"
     ]
    }
   ],
   "source": [
    "try:\n",
    "    import accelerate\n",
    "except:\n",
    "    !pip install accelerate"
   ]
  },
  {
   "cell_type": "code",
   "execution_count": 4,
   "metadata": {},
   "outputs": [
    {
     "name": "stdout",
     "output_type": "stream",
     "text": [
      "Collecting transformers[torch]==4.25.1\n",
      "  Using cached transformers-4.25.1-py3-none-any.whl (5.8 MB)\n",
      "Requirement already satisfied: numpy>=1.17 in /home/satya/anaconda3/lib/python3.9/site-packages (from transformers[torch]==4.25.1) (1.21.5)\n",
      "Collecting tokenizers!=0.11.3,<0.14,>=0.11.1\n",
      "  Using cached tokenizers-0.13.3-cp39-cp39-manylinux_2_17_x86_64.manylinux2014_x86_64.whl (7.8 MB)\n",
      "Requirement already satisfied: tqdm>=4.27 in /home/satya/anaconda3/lib/python3.9/site-packages (from transformers[torch]==4.25.1) (4.64.0)\n",
      "Requirement already satisfied: requests in /home/satya/anaconda3/lib/python3.9/site-packages (from transformers[torch]==4.25.1) (2.27.1)\n",
      "Requirement already satisfied: regex!=2019.12.17 in /home/satya/anaconda3/lib/python3.9/site-packages (from transformers[torch]==4.25.1) (2022.3.15)\n",
      "Requirement already satisfied: packaging>=20.0 in /home/satya/anaconda3/lib/python3.9/site-packages (from transformers[torch]==4.25.1) (21.3)\n",
      "Requirement already satisfied: pyyaml>=5.1 in /home/satya/anaconda3/lib/python3.9/site-packages (from transformers[torch]==4.25.1) (6.0)\n",
      "Requirement already satisfied: filelock in /home/satya/anaconda3/lib/python3.9/site-packages (from transformers[torch]==4.25.1) (3.6.0)\n",
      "Collecting huggingface-hub<1.0,>=0.10.0\n",
      "  Using cached huggingface_hub-0.14.0-py3-none-any.whl (224 kB)\n",
      "Collecting torch!=1.12.0,>=1.7\n",
      "^C\n"
     ]
    }
   ],
   "source": [
    "try:\n",
    "    import transformers\n",
    "except:\n",
    "    !pip install transformers[torch]==4.25.1"
   ]
  },
  {
   "cell_type": "code",
   "execution_count": null,
   "metadata": {},
   "outputs": [],
   "source": [
    "import torch\n",
    "from transformers import pipeline\n",
    "\n",
    "generate_text = pipeline(model=\"databricks/dolly-v2-3b\", torch_dtype=torch.bfloat16, trust_remote_code=True, device_map=\"auto\")"
   ]
  }
 ],
 "metadata": {
  "kernelspec": {
   "display_name": "Python 3 (ipykernel)",
   "language": "python",
   "name": "python3"
  },
  "language_info": {
   "codemirror_mode": {
    "name": "ipython",
    "version": 3
   },
   "file_extension": ".py",
   "mimetype": "text/x-python",
   "name": "python",
   "nbconvert_exporter": "python",
   "pygments_lexer": "ipython3",
   "version": "3.9.12"
  }
 },
 "nbformat": 4,
 "nbformat_minor": 2
}
